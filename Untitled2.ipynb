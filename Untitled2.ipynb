{
  "nbformat": 4,
  "nbformat_minor": 0,
  "metadata": {
    "colab": {
      "name": "Untitled2.ipynb",
      "provenance": [],
      "authorship_tag": "ABX9TyMiOe84DdAMerG7nkZCZA3X",
      "include_colab_link": true
    },
    "kernelspec": {
      "name": "python3",
      "display_name": "Python 3"
    },
    "language_info": {
      "name": "python"
    }
  },
  "cells": [
    {
      "cell_type": "markdown",
      "metadata": {
        "id": "view-in-github",
        "colab_type": "text"
      },
      "source": [
        "<a href=\"https://colab.research.google.com/github/Amiya-1999/Dance-Website/blob/master/Untitled2.ipynb\" target=\"_parent\"><img src=\"https://colab.research.google.com/assets/colab-badge.svg\" alt=\"Open In Colab\"/></a>"
      ]
    },
    {
      "cell_type": "code",
      "execution_count": null,
      "metadata": {
        "id": "XGaANOP5SyAM"
      },
      "outputs": [],
      "source": [
        "import os\n",
        "import sys\n",
        "import shutil\n",
        "import glob\n",
        "import matplotlib.pyplot as plt\n",
        "import matplotlib.image as mpimg\n",
        "from PIL import Image"
      ]
    },
    {
      "cell_type": "code",
      "source": [
        "from google.colab import drive\n",
        "drive.mount('/content/gdrive')\n",
        "%cd \"gdrive/My Drive/Dataset\""
      ],
      "metadata": {
        "colab": {
          "base_uri": "https://localhost:8080/"
        },
        "id": "apRerz4WS215",
        "outputId": "46f99fa0-2992-4054-a443-5e82d9bf772e"
      },
      "execution_count": null,
      "outputs": [
        {
          "output_type": "stream",
          "name": "stdout",
          "text": [
            "Mounted at /content/gdrive\n",
            "/content/gdrive/My Drive/Dataset\n"
          ]
        }
      ]
    },
    {
      "cell_type": "code",
      "source": [
        "def dir_create(path):\n",
        "    if (os.path.exists(path)) and (os.listdir(path) != []):\n",
        "        shutil.rmtree(path)\n",
        "        os.makedirs(path)\n",
        "    if not os.path.exists(path):\n",
        "        os.makedirs(path)"
      ],
      "metadata": {
        "id": "czJhRruPTGmz"
      },
      "execution_count": null,
      "outputs": []
    },
    {
      "cell_type": "code",
      "source": [
        "def crop(input_file, height, width):\n",
        "    img = Image.open(input_file)\n",
        "    img_width, img_height = img.size\n",
        "    for i in range(img_height//height):\n",
        "        for j in range(img_width//width):\n",
        "            box = (j*width, i*height, (j+1)*width, (i+1)*height)\n",
        "            yield img.crop(box)"
      ],
      "metadata": {
        "id": "Xhidua-vTQ5p"
      },
      "execution_count": null,
      "outputs": []
    },
    {
      "cell_type": "code",
      "source": [
        "def split(inp_img_dir, out_dir, height, width, \n",
        "          start_num):\n",
        "    image_dir = os.path.join(out_dir, 'images')\n",
        "    dir_create(out_dir)\n",
        "    dir_create(image_dir)\n",
        "    img_list = [f for f in\n",
        "                os.listdir(inp_img_dir)\n",
        "                if os.path.isfile(os.path.join(inp_img_dir, f))]\n",
        "    file_num = 0\n",
        "    for infile in img_list:\n",
        "        infile_path = os.path.join(inp_img_dir, infile)\n",
        "        for k, piece in enumerate(crop(infile_path,\n",
        "                                       height, width), start_num):\n",
        "            img = Image.new('RGB', (height, width), 255)\n",
        "            img.paste(piece)\n",
        "            img_path = os.path.join(image_dir, \n",
        "                                    infile.split('.')[0]+ '_'\n",
        "                                    + str(k).zfill(5) + '.png')\n",
        "            img.save(img_path)\n",
        "        file_num += 1\n",
        "        sys.stdout.write(\"\\rFile %s was processed.\" % file_num)\n",
        "        sys.stdout.flush()"
      ],
      "metadata": {
        "id": "9e1QI7CMTUkR"
      },
      "execution_count": null,
      "outputs": []
    },
    {
      "cell_type": "code",
      "source": [
        "inp_img_dir = './input_dir/images'\n",
        "out_dir = './output_dir'\n",
        "height = 128\n",
        "width = 128\n",
        "start_num = 1"
      ],
      "metadata": {
        "id": "3byNu2GkUo_Z"
      },
      "execution_count": null,
      "outputs": []
    },
    {
      "cell_type": "code",
      "source": [
        "input_images_list = glob.glob(inp_img_dir + '*.jpg')\n",
        "split(inp_img_dir, out_dir, height, width, start_num)"
      ],
      "metadata": {
        "colab": {
          "base_uri": "https://localhost:8080/"
        },
        "id": "yusrCmmVUzap",
        "outputId": "180c56fe-3bdf-4983-eed2-e31edd7c2290"
      },
      "execution_count": null,
      "outputs": [
        {
          "output_type": "stream",
          "name": "stdout",
          "text": [
            "File 5 was processed."
          ]
        }
      ]
    },
    {
      "cell_type": "code",
      "source": [
        ""
      ],
      "metadata": {
        "id": "Zp3EX70BV3BD"
      },
      "execution_count": null,
      "outputs": []
    }
  ]
}